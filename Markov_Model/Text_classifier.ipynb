{
 "cells": [
  {
   "cell_type": "code",
   "execution_count": 1,
   "metadata": {},
   "outputs": [],
   "source": [
    "import numpy as np\n",
    "import matplotlib.pyplot as plt\n",
    "import string\n",
    "from sklearn.model_selection import train_test_split"
   ]
  },
  {
   "cell_type": "code",
   "execution_count": 5,
   "metadata": {},
   "outputs": [],
   "source": [
    "input_files = [\n",
    "  'edgar_allan_poe.txt',\n",
    "  'robert_frost.txt',\n",
    "]"
   ]
  },
  {
   "cell_type": "code",
   "execution_count": 9,
   "metadata": {},
   "outputs": [
    {
     "name": "stdout",
     "output_type": "stream",
     "text": [
      "edgar_allan_poe.txt corresponting to 0\n",
      "robert_frost.txt corresponting to 1\n"
     ]
    }
   ],
   "source": [
    "# collect data into list\n",
    "# loop through each file ,save each line to a list\n",
    "input_texts=[]\n",
    "labels=[]\n",
    "for lable,f in enumerate(input_files):\n",
    "    print(f\"{f} corresponting to {lable}\")\n",
    "    for line in open(f):\n",
    "        line=line.rstrip().lower() #rstrip remove the new line notation\n",
    "        if line:\n",
    "            # remove puncutaion\n",
    "            line=line.translate(str.maketrans('','',string.punctuation))\n",
    "            input_texts.append(line)\n",
    "            labels.append(lable)\n"
   ]
  },
  {
   "cell_type": "code",
   "execution_count": 11,
   "metadata": {},
   "outputs": [],
   "source": [
    "train_text, test_text, Ytrain, Ytest = train_test_split(input_texts, labels)"
   ]
  },
  {
   "cell_type": "code",
   "execution_count": 13,
   "metadata": {},
   "outputs": [
    {
     "name": "stdout",
     "output_type": "stream",
     "text": [
      "1618\n",
      "540\n",
      "1618\n",
      "540\n"
     ]
    }
   ],
   "source": [
    "print(len(train_text))\n",
    "print(len(test_text))\n",
    "print(len(Ytrain))\n",
    "print(len(Ytest))"
   ]
  },
  {
   "cell_type": "code",
   "execution_count": 19,
   "metadata": {},
   "outputs": [
    {
     "name": "stdout",
     "output_type": "stream",
     "text": [
      "['to make it surer that i was a witch', 'hath little of earth in it', 'for we knew not the month was october', 'charge that to upstart inexperience', 'to breathe the incense of those slumbering roses']\n",
      "['of yawning lenses', 'to ridgely torrence', 'a single leaf was on a bough', 'but the skies that angel trod', 'resignedly beneath the sky']\n"
     ]
    }
   ],
   "source": [
    "print(train_text[:5])\n",
    "print(test_text[:5])"
   ]
  },
  {
   "cell_type": "code",
   "execution_count": 18,
   "metadata": {},
   "outputs": [
    {
     "name": "stdout",
     "output_type": "stream",
     "text": [
      "[1, 0, 0, 1, 0]\n",
      "[1, 1, 1, 0, 0]\n"
     ]
    }
   ],
   "source": [
    "print(Ytrain[:5])\n",
    "print(Ytest[:5])"
   ]
  },
  {
   "cell_type": "code",
   "execution_count": 25,
   "metadata": {},
   "outputs": [],
   "source": [
    "# creating a mapping from unique words to unique integes index\n",
    "idx=1\n",
    "word2idx = {'<unk>': 0}\n",
    "for text in train_text:\n",
    "    tokens=text.split()\n",
    "    for token in tokens:\n",
    "        if token not in word2idx:\n",
    "            word2idx[token]=idx\n",
    "            idx+=1\n"
   ]
  },
  {
   "cell_type": "code",
   "execution_count": 27,
   "metadata": {},
   "outputs": [
    {
     "name": "stdout",
     "output_type": "stream",
     "text": [
      "{'<unk>': 0, 'to': 1, 'make': 2, 'it': 3, 'surer': 4, 'that': 5, 'i': 6, 'was': 7, 'a': 8, 'witch': 9, 'hath': 10, 'little': 11, 'of': 12, 'earth': 13, 'in': 14, 'for': 15, 'we': 16, 'knew': 17, 'not': 18, 'the': 19, 'month': 20, 'october': 21, 'charge': 22, 'upstart': 23, 'inexperience': 24, 'breathe': 25, 'incense': 26, 'those': 27, 'slumbering': 28, 'roses': 29, 'both': 30, 'us': 31, 'but': 32, 'look': 33, 'how': 34, 'turns': 35, 'out': 36, 'youthful': 37, 'forms': 38, 'and': 39, 'faces': 40, 'hold': 41, 'door': 42, 'bones': 43, 'didnt': 44, 'try': 45, 'tell': 46, 'me': 47, 'whether': 48, 'as': 49, 'can': 50, 'fall': 51, 'keep': 52, 'abouncing': 53, 'on': 54, 'our': 55, 'feet': 56, 'speculation': 57, 'never': 58, 'could': 59, 'have': 60, 'done': 61, 'thing': 62, 'did': 63, 'takes': 64, 'moon': 65, 'this': 66, 'suns': 67, 'wizard': 68, 'so': 69, 'eden': 70, 'sank': 71, 'grief': 72, 'is': 73, 'my': 74, 'sincere': 75, 'reply': 76, 'you': 77, 'will': 78, 'be': 79, 'likely': 80, 'regard': 81, 'sacred': 82, 'by': 83, 'all': 84, 'sos': 85, 'blow': 86, 'or': 87, 'anything': 88, 'selfclear': 89, 'their': 90, 'sulphurous': 91, 'currents': 92, 'down': 93, 'yaanek': 94, 'well': 95, 'showed': 96, 'arthur': 97, 'amy': 98, 'signs': 99, 'enough': 100, 'what': 101, 'are': 102, 'they': 103, 'trying': 104, 'do': 105, 'these': 106, 'two': 107, 'stardials': 108, 'pointed': 109, 'morn': 110, 'shatter': 111, 'inward': 112, 'unswept': 113, 'floors': 114, 'let': 115, 'bathe': 116, 'crystalline': 117, 'light': 118, 'brook': 119, 'water': 120, 'house': 121, 'at': 122, 'softmurmured': 123, 'words': 124, 'were': 125, 'fulfilled': 126, 'doesnt': 127, 'exist': 128, 'hed': 129, 'say': 130, 'she': 131, 'does': 132, 'more': 133, 'because': 134, 'likes': 135, 'think': 136, 'know': 137, 'hate': 138, 'through': 139, 'pale': 140, 'piano': 141, 'new': 142, 'paint': 143, 'back': 144, 'there': 145, 'ways': 146, 'hardly': 147, 'virgin': 148, 'gave': 149, 'instant': 150, 'birth': 151, 'several': 152, 'times': 153, 'over': 154, 'marrying': 155, 'father': 156, 'among': 157, 'unearthed': 158, 'potatoes': 159, 'standing': 160, 'still': 161, 'tempted': 162, 'her': 163, 'gloom': 164, 'dont': 165, 'just': 166, 'see': 167, 'him': 168, 'living': 169, 'many': 170, 'years': 171, 'if': 172, 'reckon': 173, 'cousinship': 174, 'gazing': 175, 'entranced': 176, 'adown': 177, 'gorgeous': 178, 'vista': 179, 'under': 180, 'shelter': 181, 'family': 182, 'tree': 183, 'happens': 184, 'broken': 185, 'davis': 186, 'said': 187, 'smoothlaid': 188, 'like': 189, 'thatch': 190, 'with': 191, 'heavy': 192, 'dew': 193, 'half': 194, 'outdoor': 195, 'work': 196, 'though': 197, 'while': 198, 'from': 199, 'high': 200, 'towers': 201, 'town': 202, 'lying': 203, 'die': 204, 'suddenly': 205, 'arisen': 206, 'its': 207, 'old': 208, 'captains': 209, 'dark': 210, 'fate': 211, 'im': 212, 'sure': 213, 'wont': 214, 'come': 215, 'shes': 216, 'hiding': 217, 'somewhere': 218, 'forward': 219, 'weakly': 220, 'handrail': 221, 'he': 222, 'hoed': 223, 'yesterday': 224, 'now': 225, 'too': 226, 'much': 227, 'place': 228, 'where': 229, 'once': 230, 'kinsman': 231, 'around': 232, 'rare': 233, 'flowers': 234, 'cannot': 235, 'guide': 236, 'aright': 237, 'thoughts': 238, 'palsied': 239, 'sere': 240, 'upper': 241, 'shelf': 242, 'tin': 243, 'box': 244, 'thats': 245, 'one': 246, 'wanted': 247, 'something': 248, 'noise': 249, 'turned': 250, 'luminary': 251, 'clock': 252, 'against': 253, 'sky': 254, 'truly': 255, 'men': 256, 'long': 257, 'ago': 258, 'ye': 259, 'deliverers': 260, 'athens': 261, 'shame': 262, 'twothousandmile': 263, 'coast': 264, 'would': 265, 'go': 266, 'yet': 267, 'gone': 268, 'west': 269, 'worse': 270, 'fight': 271, 'desert': 272, 'angels': 273, 'dreaming': 274, 'moonlit': 275, 'cupboard': 276, 'cant': 277, 'track': 278, 'other': 279, 'peoples': 280, 'daughters': 281, 'bells': 282, 'stars': 283, 'sleep': 284, 'dream': 285, 'till': 286, 'day': 287, 'â€‰': 288, 'end': 289, 'far': 290, 'going': 291, 'forth': 292, 'maintained': 293, 'power': 294, 'denied': 295, 'ever': 296, 'life': 297, 'bed': 298, 'wrote': 299, 'things': 300, 'pipes': 301, 'smoking': 302, 'jug': 303, 'own': 304, 'fervour': 305, 'had': 306, 'oer': 307, 'ill': 308, 'find': 309, 'fountain': 310, 'summer': 311, 'thrill': 312, 'single': 313, 'kiss': 314, 'except': 315, 'seemed': 316, 'poetesss': 317, 'poems': 318, 'makes': 319, 'want': 320, 'truth': 321, 'speak': 322, 'voices': 323, 'eightyfive': 324, 'cried': 325, 'surely': 326, 'signify': 327, 'donkeys': 328, 'cars': 329, 'bottle': 330, 'salt': 331, 'wherewith': 332, 'theyre': 333, 'salted': 334, 'brought': 335, 'dread': 336, 'burden': 337, 'here': 338, 'achilles': 339, 'diomed': 340, 'rest': 341, 'allowed': 342, 'take': 343, 'them': 344, 'upside': 345, 'joy': 346, 'wo': 347, 'good': 348, 'turn': 349, 'round': 350, 'got': 351, 'saying': 352, 'heaven': 353, 'ungodly': 354, 'gods': 355, 'sake': 356, 'arent': 357, 'fond': 358, 'viewing': 359, 'nature': 360, 'child': 361, 'comes': 362, 'up': 363, 'wasnt': 364, 'toffile': 365, 'likeness': 366, 'surprise': 367, 'thrilly': 368, 'tourist': 369, 'myself': 370, 'about': 371, 'birch': 372, 'oldbelievers': 373, 'talking': 374, 'blushes': 375, 'love': 376, 'might': 377, 'garden': 378, 'having': 379, 'eased': 380, 'heart': 381, 'copy': 382, 'furthest': 383, 'bodies': 384, 'an': 385, 'cellar': 386, 'hole': 387, 'byroad': 388, 'looks': 389, 'some': 390, 'magic': 391, 'sun': 392, 'stroked': 393, 'hornyhanded': 394, 'kindness': 395, 'which': 396, 'seven': 397, 'awake': 398, 'night': 399, 'looked': 400, 'saddest': 401, 'city': 402, 'lane': 403, 'run': 404, 'last': 405, 'fairylike': 406, 'melody': 407, 'floats': 408, 'ultimate': 409, 'climes': 410, 'pole': 411, 'then': 412, 'must': 413, 'strange': 414, 'venuses': 415, 'unextinguished': 416, 'wish': 417, 'hadnt': 418, 'been': 419, 'strong': 420, 'fell': 421, 'upturnd': 422, 'caught': 423, 'wind': 424, 'opening': 425, 'covers': 426, 'dalton': 427, 'someday': 428, 'his': 429, 'fortune': 430, 'bad': 431, 'north': 432, 'south': 433, 'across': 434, 'blue': 435, 'along': 436, 'wilderness': 437, 'glass': 438, 'sculturd': 439, 'ivy': 440, 'stone': 441, 'note': 442, 'unruffled': 443, 'guess': 444, 'youd': 445, 'empty': 446, 'no': 447, 'trust': 448, 'your': 449, 'eyes': 450, 'youve': 451, 'doorsill': 452, 'corner': 453, 'piece': 454, 'ecstasies': 455, 'above': 456, 'since': 457, 'flickers': 458, 'shining': 459, 'snow': 460, 'early': 461, 'mormons': 462, 'made': 463, 'settlement': 464, 'strapping': 465, 'girl': 466, 'twenty': 467, 'home': 468, 'ask': 469, 'better': 470, 'sproutlands': 471, 'flourish': 472, 'axe': 473, 'has': 474, 'shaded': 475, 'truest': 476, 'most': 477, 'fervently': 478, 'devoted': 479, 'hard': 480, 'dim': 481, 'lake': 482, 'auber': 483, 'whole': 484, 'edition': 485, 'packing': 486, 'case': 487, 'company': 488, 'heard': 489, 'learned': 490, 'loved': 491, 'object': 492, 'tear': 493, 'lid': 494, 'bow': 495, 'however': 496, 'bricks': 497, 'eye': 498, 'man': 499, 'cock': 500, 'twentyfive': 501, 'worlds': 502, 'shall': 503, 'given': 504, 'aint': 505, 'names': 506, 'quite': 507, 'ones': 508, 'traveler': 509, 'stood': 510, 'who': 511, 'get': 512, 'greatness': 513, 'right': 514, 'stint': 515, 'hens': 516, 'cows': 517, 'pigs': 518, 'always': 519, 'into': 520, 'each': 521, 'lost': 522, 'when': 523, 'storms': 524, 'oercast': 525, 'best': 526, 'tempt': 527, 'such': 528, 'time': 529, 'past': 530, 'strangeness': 531, 'throne': 532, 'sitting': 533, 'picking': 534, 'faded': 535, 'breathing': 536, 'isles': 537, 'blest': 538, 'buttons': 539, 'poured': 540, 'lap': 541, 'fever': 542, 'moonbeam': 543, 'hangs': 544, 'hurt': 545, 'someone': 546, 'doing': 547, 'son': 548, 'youre': 549, 'told': 550, 'timber': 551, 'chimney': 552, 'only': 553, 'serve': 554, 'remind': 555, 'why': 556, 'preyest': 557, 'thou': 558, 'thus': 559, 'upon': 560, 'poets': 561, 'ear': 562, 'pianos': 563, 'vigor': 564, 'sadly': 565, 'star': 566, 'mistrust': 567, 'utmost': 568, 'bush': 569, 'peas': 570, 'bring': 571, 'broadboard': 572, 'paneling': 573, 'figures': 574, 'described': 575, 'science': 576, 'true': 577, 'daughter': 578, 'art': 579, 'doubling': 580, 'redoubling': 581, 'song': 582, 'twitter': 583, 'converging': 584, 'slides': 585, 'avalanches': 586, 'hes': 587, 'nice': 588, 'perish': 589, 'twice': 590, 'tone': 591, 'spirit': 592, 'striven': 593, 'strung': 594, 'hair': 595, 'faroff': 596, 'happier': 597, 'sea': 598, 'ah': 599, 'darkly': 600, 'present': 601, 'repented': 602, 'coming': 603, 'sing': 604, 'blame': 605, 'being': 606, 'mother': 607, 'course': 608, 'stay': 609, 'mean': 610, 'miles': 611, 'mormon': 612, 'chandelier': 613, 'resurrection': 614, 'deepburied': 615, 'faith': 616, 'break': 617, 'may': 618, 'job': 619, 'youth': 620, 'known': 621, 'whom': 622, 'yourself': 623, 'field': 624, 'poor': 625, 'wild': 626, 'rose': 627, 'perfumed': 628, 'gale': 629, 'way': 630, 'leg': 631, 'crutch': 632, 'mebbe': 633, 'wrong': 634, 'tended': 635, 'herself': 636, 'shadow': 637, 'thy': 638, 'perfect': 639, 'bliss': 640, 'bowed': 641, 'grace': 642, 'natural': 643, 'law': 644, 'communing': 645, 'road': 646, 'matter': 647, 'cheeks': 648, 'worm': 649, 'dies': 650, 'few': 651, 'people': 652, 'married': 653, 'chance': 654, 'whose': 655, 'fervid': 656, 'flickering': 657, 'torch': 658, 'lit': 659, 'shrines': 660, 'palaces': 661, 'small': 662, 'dignity': 663, 'mien': 664, 'death': 665, 'gigantically': 666, 'lets': 667, 'trap': 668, 'open': 669, 'attic': 670, 'hog': 671, 'reeve': 672, 'march': 673, 'meeting': 674, 'warren': 675, 'brown': 676, 'hour': 677, 'merely': 678, 'wit': 679, 'wisdom': 680, 'king': 681, 'ahead': 682, 'foot': 683, 'rapid': 684, 'ghastly': 685, 'river': 686, 'twas': 687, 'money': 688, 'serenest': 689, 'skies': 690, 'continually': 691, 'newcut': 692, 'narrow': 693, 'gap': 694, 'seem': 695, 'pendulous': 696, 'air': 697, 'fear': 698, 'treading': 699, 'mind': 700, 'certain': 701, 'coolness': 702, 'changed': 703, 'smith': 704, 'called': 705, 'off': 706, 'mountain': 707, 'havent': 708, 'name': 709, 'swamp': 710, 'cedar': 711, 'choked': 712, 'oil': 713, 'passed': 714, 'rural': 715, 'letterbox': 716, 'lajway': 717, 'ive': 718, 'built': 719, 'big': 720, 'church': 721, 'organ': 722, 'mockery': 723, 'boast': 724, 'believe': 725, 'â€˜tis': 726, 'vault': 727, 'ulalume': 728, 'least': 729, 'help': 730, 'dig': 731, 'grave': 732, 'else': 733, 'nowadays': 734, 'marshall': 735, 'ears': 736, 'gnaw': 737, 'posts': 738, 'crosslegged': 739, 'staid': 740, 'farm': 741, 'halted': 742, 'helpless': 743, 'landing': 744, 'hourly': 745, 'hope': 746, 'seal': 747, 'yelp': 748, 'folk': 749, 'afraid': 750, 'bless': 751, 'isnt': 752, 'grandsir': 753, 'stark': 754, 'granny': 755, 'leave': 756, 'tatters': 757, 'hung': 758, 'barb': 759, 'thorn': 760, 'pathway': 761, 'part': 762, 'wonder': 763, 'marry': 764, 'purport': 765, 'grandsirs': 766, 'give': 767, 'hear': 768, 'drinking': 769, 'goblet': 770, 'grail': 771, 'theres': 772, 'dite': 773, 'comfort': 774, 'ghoulhaunted': 775, 'woodland': 776, 'weir': 777, 'tangle': 778, 'withered': 779, 'weeds': 780, 'length': 781, 'dear': 782, 'dian': 783, 'sight': 784, 'easy': 785, 'downy': 786, 'flake': 787, 'suffice': 788, 'liked': 789, 'everything': 790, 'hand': 791, 'buttonbox': 792, 'headed': 793, 'forâ€”': 794, 'fair': 795, 'isle': 796, 'fairest': 797, 'makebelieve': 798, 'springs': 799, 'grew': 800, 'ashen': 801, 'sober': 802, 'match': 803, 'flame': 804, 'level': 805, 'waves': 806, 'streams': 807, 'turrets': 808, 'silently': 809, 'voted': 810, 'safely': 811, 'gleaming': 812, 'pearl': 813, 'ruby': 814, 'glowing': 815, 'dimremembered': 816, 'story': 817, 'roads': 818, 'diverged': 819, 'yellow': 820, 'wood': 821, 'anyone': 822, 'seen': 823, 'bland': 824, 'repose': 825, 'watched': 826, 'forty': 827, 'holes': 828, 'wings': 829, 'until': 830, 'trailed': 831, 'dust': 832, 'riddle': 833, 'genealogy': 834, 'trapper': 835, 'looking': 836, 'sign': 837, 'spose': 838, 'mallice': 839, 'huse': 840, 'replied': 841, 'nothing': 842, 'lethean': 843, 'peace': 844, 'went': 845, 'saw': 846, 'throw': 847, 'hoe': 848, 'than': 849, 'beauty': 850, 'entombed': 851, 'experts': 852, 'deep': 853, 'after': 854, 'liking': 855, 'john': 856, 'suspected': 857, 'henceforth': 858, 'flowerenameled': 859, 'shore': 860, 'growing': 861, 'grown': 862, 'earnest': 863, 'appears': 864, 'died': 865, 'lonesome': 866, 'mow': 867, 'room': 868, 'tremulous': 869, 'tote': 870, 'clearing': 871, 'lived': 872, 'rain': 873, 'morning': 874, 'equally': 875, 'lay': 876, 'offers': 877, 'hall': 878, 'champions': 879, 'brave': 880, 'very': 881, 'odors': 882, 'wentworth': 883, 'cypress': 884, 'psyche': 885, 'soul': 886, 'neer': 887, 'flow': 888, 'talk': 889, 'silver': 890, 'build': 891, 'clear': 892, 'ground': 893, 'used': 894, 'toteroad': 895, 'july': 896, 'midnight': 897, 'lips': 898, 'abode': 899, 'age': 900, 'raining': 901, 'none': 902, 'wildly': 903, 'desolately': 904, 'merry': 905, 'throats': 906, 'uncommonly': 907, 'alls': 908, 'doth': 909, 'pass': 910, 'th': 911, 'expanding': 912, 'grass': 913, 'chose': 914, 'blanket': 915, 'doubt': 916, 'id': 917, 'holding': 918, 'boughs': 919, 'piled': 920, 'everywhereâ€”': 921, 'sweet': 922, 'dreams': 923, 'quarrel': 924, 'property': 925, 'lo': 926, 'stir': 927, 'invested': 928, 'reasons': 929, 'yes': 930, 'whats': 931, 'leaves': 932, 'crisped': 933, 'stand': 934, 'sit': 935, 'hardest': 936, 'hue': 937, 'days': 938, 'volcanic': 939, 'guessed': 940, 'theyd': 941, 'put': 942, 'stopped': 943, 'sound': 944, 'strength': 945, 'subdued': 946, 'o': 947, 'god': 948, 'funereal': 949, 'arose': 950, 'duplicate': 951, 'horn': 952, 'spare': 953, 'any': 954, 'trouble': 955, 'double': 956, 'troubles': 957, 'starlight': 958, 'pall': 959, 'common': 960, 'lie': 961, 'show': 962, 'bearing': 963, 'detail': 964, 'front': 965, 'every': 966, 'grafton': 967, 'county': 968, 'kept': 969, 'hidden': 970, 'instep': 971, 'arch': 972, 'barn': 973, 'smells': 974, 'wash': 975, 'ploughed': 976, 'strangely': 977, 'memory': 978, 'ominous': 979, 'stain': 980, 'tar': 981, 'flight': 982, 'kitchen': 983, 'thought': 984, 'bird': 985, 'alight': 986, 'spoke': 987, 'lettered': 988, 'lies': 989, 'charred': 990, 'cousins': 991, 'remember': 992, 'rightly': 993, 'sprung': 994, 'hours': 995, 'daylight': 996, 'gather': 997, 'atmosphere': 998, 'accept': 999, 'substitute': 1000, 'merrily': 1001, 'live': 1002, 'noted': 1003, 'sybilic': 1004, 'splendor': 1005, 'beaming': 1006, 'neck': 1007, 'clothes': 1008, 'fault': 1009, 'husband': 1010, 'found': 1011, 'hands': 1012, 'gold': 1013, 'sometimes': 1014, 'authority': 1015, 'natures': 1016, 'first': 1017, 'green': 1018, 'listened': 1019, 'almost': 1020, 'climbed': 1021, 'stairs': 1022, 'pearly': 1023, 'lustre': 1024, 'smarty': 1025, 'spoiled': 1026, 'adding': 1027, 'frost': 1028, 'swimming': 1029, 'shell': 1030, 'dared': 1031, 'unless': 1032, 'tiptoe': 1033, 'seems': 1034, 'housework': 1035, 'besides': 1036, 'broke': 1037, 'trance': 1038, 'suspicious': 1039, 'wampum': 1040, 'call': 1041, 'complain': 1042, 'lifts': 1043, 'existence': 1044, 'plane': 1045, 'thinks': 1046, 'lefts': 1047, 'bigger': 1048, 'harness': 1049, 'gall': 1050, 'drag': 1051, 'windows': 1052, 'banked': 1053, 'sawdust': 1054, 'crew': 1055, 'left': 1056, 'failed': 1057, 'plumes': 1058, 'oh': 1059, 'miss': 1060, 'sudden': 1061, 'movement': 1062, 'toward': 1063, 'bodice': 1064, 'pick': 1065, 'flower': 1066, 'sink': 1067, 'wife': 1068, 'signals': 1069, 'state': 1070, 'glory': 1071, 'befitting': 1072, 'claiming': 1073, 'priority': 1074, 'starkness': 1075, 'misting': 1076, 'reverence': 1077, 'write': 1078, 'brushing': 1079, 'chalky': 1080, 'skull': 1081, 'fingers': 1082, 'misty': 1083, 'mid': 1084, 'region': 1085, 'even': 1086, 'lonely': 1087, 'nose': 1088, 'same': 1089, 'chin': 1090, 'straight': 1091, 'fast': 1092, 'drew': 1093, 'passport': 1094, 'crooking': 1095, 'trillium': 1096, 'journeyed': 1097, 'winter': 1098, 'halfpast': 1099, 'three': 1100, 'lurid': 1101, 'verdant': 1102, 'slopes': 1103, 'lifelike': 1104, 'posture': 1105, 'swarm': 1106, 'nearest': 1107, 'resembles': 1108, 'worship': 1109, 'stamped': 1110, 'himself': 1111, 'thee': 1112, 'thine': 1113, 'others': 1114, 'wriggling': 1115, 'speed': 1116, 'goodlooking': 1117, 'books': 1118, 'picked': 1119, 'fresh': 1120, 'lofty': 1121, 'original': 1122, 'rage': 1123, 'owe': 1124, 'gratitude': 1125, 'threw': 1126, 'wetelbowed': 1127, 'wetkneed': 1128, 'manner': 1129, 'stock': 1130, 'iron': 1131, 'friends': 1132, 'lifted': 1133, 'rug': 1134, 'bred': 1135, 'floor': 1136, 'storm': 1137, 'wave': 1138, 'ripple': 1139, 'choice': 1140, 'mask': 1141, 'viol': 1142, 'vine': 1143, 'steered': 1144, 'really': 1145, 'away': 1146, 'legitimately': 1147, 'demand': 1148, 'thence': 1149, 'numerous': 1150, 'tribe': 1151, 'quick': 1152, 'slammed': 1153, 'held': 1154, 'knob': 1155, 'tent': 1156, 'grove': 1157, 'orchard': 1158, 'whatever': 1159, 'cost': 1160, 'apiece': 1161, 'pound': 1162, 'book': 1163, 'expired': 1164, 'save': 1165, 'less': 1166, 'avengers': 1167, 'libertys': 1168, 'wrongs': 1169, 'steeple': 1170, 'came': 1171, 'lookoff': 1172, 'faced': 1173, 'between': 1174, 'decently': 1175, 'refuse': 1176, 'dank': 1177, 'tarn': 1178, 'stifling': 1179, 'hot': 1180, 'odor': 1181, 'sap': 1182, 'peckerfretted': 1183, 'apple': 1184, 'trees': 1185, 'woods': 1186, 'winds': 1187, 'mountains': 1188, 'intense': 1189, 'sell': 1190, 'world': 1191, 'ran': 1192, 'scuttled': 1193, 'estelles': 1194, 'suppose': 1195, 'deserves': 1196, 'pity': 1197, 'paddle': 1198, 'blade': 1199, 'senescent': 1200, 'buds': 1201, 'leaf': 1202, 'bloom': 1203, 'staying': 1204, 'took': 1205, 'full': 1206, 'ascending': 1207, 'descend': 1208, 'reascend': 1209, 'before': 1210, 'shattered': 1211, 'dishes': 1212, 'underneath': 1213, 'pine': 1214, 'horrible': 1215, 'monody': 1216, 'behind': 1217, 'headboard': 1218, 'mourn': 1219, 'morrow': 1220, 'bill': 1221, 'fence': 1222, 'range': 1223, 'nights': 1224, 'year': 1225, 'fur': 1226, 'trade': 1227, 'forâ€”montreal': 1228, 'snapped': 1229, 'young': 1230, 'tender': 1231, 'bark': 1232, 'cold': 1233, 'spring': 1234, 'near': 1235, 'source': 1236, 'position': 1237, 'handsâ€”': 1238, 'four': 1239, 'splinters': 1240, 'prove': 1241, 'revels': 1242, 'sighs': 1243, 'theyve': 1244, 'dragged': 1245, 'courts': 1246, 'boss': 1247, 'smart': 1248, 'pair': 1249, 'pumps': 1250, 'beading': 1251, 'chimneys': 1252, 'false': 1253, 'remaining': 1254, 'aster': 1255, 'pauses': 1256, 'hast': 1257, 'diana': 1258, 'car': 1259, 'nighttime': 1260, 'perhaps': 1261, 'wrought': 1262, 'visions': 1263, 'consult': 1264, 'settled': 1265, 'need': 1266, 'hid': 1267, 'waiting': 1268, 'chill': 1269, 'effect': 1270, 'hell': 1271, 'sort': 1272, 'swear': 1273, 'awful': 1274, 'amid': 1275, 'empurpled': 1276, 'vapors': 1277, 'aknown': 1278, 'dwelling': 1279, 'alley': 1280, 'titanic': 1281, 'word': 1282, 'weather': 1283, 'thrown': 1284, 'skiff': 1285, 'palace': 1286, 'drear': 1287, 'path': 1288, 'alas': 1289, 'grows': 1290, 'fill': 1291, 'wants': 1292, 'farmers': 1293, 'ought': 1294, 'purer': 1295, 'oracle': 1296, 'wouldnt': 1297, 'alterest': 1298, 'peering': 1299, 'sunshine': 1300, 'use': 1301, 'motorcars': 1302, 'asked': 1303, 'sits': 1304, 'sings': 1305, 'another': 1306, 'joe': 1307, 'grow': 1308, 'short': 1309, 'mosses': 1310, 'tall': 1311, 'noon': 1312, 'twilight': 1313, 'friend': 1314, 'tamed': 1315, 'primeval': 1316, 'minute': 1317, 'step': 1318, 'should': 1319, 'harpstring': 1320, 'youll': 1321, 'expecting': 1322, 'estelle': 1323, 'direct': 1324, 'return': 1325, 'lovelight': 1326, 'odorous': 1327, 'souls': 1328, 'ecstatic': 1329, 'nor': 1330, 'wonted': 1331, 'faster': 1332, 'slower': 1333, 'chanced': 1334, 'zealous': 1335, 'laborious': 1336, 'device': 1337, 'legended': 1338, 'tomb': 1339, 'geese': 1340, 'dawn': 1341, 'desolate': 1342, 'elfin': 1343, 'push': 1344, 'pleiads': 1345, 'weak': 1346, 'lines': 1347, 'written': 1348, 'accursed': 1349, 'became': 1350, 'manâ€”': 1351, 'witherd': 1352, 'eddy': 1353, 'toppling': 1354, 'reard': 1355, 'january': 1356, 'thaw': 1357, 'albeit': 1358, 'soared': 1359, 'undaunted': 1360, 'wing': 1361, 'uplifting': 1362, 'finger': 1363, 'folks': 1364, 'familiar': 1365, 'spirits': 1366, 'scarified': 1367, 'lift': 1368, 'themselves': 1369, 'meaning': 1370, 'publisher': 1371, 'seats': 1372, 'wall': 1373, 'nearer': 1374, 'overhead': 1375, 'getting': 1376, 'taken': 1377, 'member': 1378, 'yankees': 1379, 'mad': 1380, 'pride': 1381, 'intellectuality': 1382, 'unembodied': 1383, 'essence': 1384, 'shifted': 1385, 'slap': 1386, 'side': 1387, 'needed': 1388, 'smell': 1389, 'wet': 1390, 'feathers': 1391, 'heat': 1392, 'sees': 1393, 'furniture': 1394, 'desperate': 1395, 'energy': 1396, 't': 1397, 'beaten': 1398, 'smother': 1399, 'bought': 1400, 'paid': 1401, 'beads': 1402, 'everybody': 1403, 'proof': 1404, 'witchs': 1405, 'motto': 1406, 'anyway': 1407, 'consent': 1408, 'planets': 1409, 'buy': 1410, 'enamored': 1411, 'gained': 1412, 'foothold': 1413, 'pursued': 1414, 'worst': 1415, 'force': 1416, 'strait': 1417, 'thatd': 1418, 'set': 1419, 'often': 1420, 'drawn': 1421, 'journey': 1422, 'flashed': 1423, 'licked': 1424, 'teeth': 1425, 'kind': 1426, 'excitement': 1427, 'ministers': 1428, 'slave': 1429, 'hers': 1430, 'follow': 1431, 'lead': 1432, 'hades': 1433, 'thousand': 1434, 'thrones': 1435, 'entablatures': 1436, 'intertwine': 1437, 'passing': 1438, 'maiden': 1439, 'expense': 1440, 'read': 1441, 'graveyard': 1442, 'marble': 1443, 'sculpture': 1444, 'tasted': 1445, 'desire': 1446, 'talkedof': 1447, 'mystery': 1448, 'didst': 1449, 'glide': 1450, 'remained': 1451, 'exclaimed': 1452, 'afar': 1453, 'fly': 1454, 'mine': 1455, 'start': 1456, 'lately': 1457, 'slept': 1458, 'apathy': 1459, 'stole': 1460, 'childrens': 1461, 'playhouse': 1462, 'transfixed': 1463, 'erect': 1464, 'dropped': 1465, 'cased': 1466, 'train': 1467, 'hideous': 1468, 'throng': 1469, 'rush': 1470, 'forever': 1471, 'woe': 1472, 'sublime': 1473, 'bulkhead': 1474, 'doubledoors': 1475, 'doublelocked': 1476, 'french': 1477, 'indian': 1478, 'esquimaux': 1479, 'blind': 1480, 'sweetest': 1481, 'voice': 1482, 'creatures': 1483, 'wearing': 1484, 'feeling': 1485, 'crown': 1486, 'tells': 1487, 'am': 1488, 'cool': 1489, 'cottage': 1490, 'ancient': 1491, 'spot': 1492, 'setting': 1493, 'traps': 1494, 'courage': 1495, 'blew': 1496, 'icy': 1497, 'crust': 1498, 'grandchildren': 1499, 'ten': 1500, 'oclock': 1501, 'eve': 1502, 'invisible': 1503, 'higher': 1504, 'below': 1505, 'surpassing': 1506, 'nowhere': 1507, 'listen': 1508, 'lean': 1509, 'gourd': 1510, 'grape': 1511, 'luxuriant': 1512, 'master': 1513, 'grange': 1514, 'promised': 1515, 'cruel': 1516, 'outward': 1517, 'bound': 1518, 'whence': 1519, 'tenanted': 1520, 'hay': 1521, 'rained': 1522, 'woo': 1523, 'descent': 1524, 'thrive': 1525, 'fireweed': 1526, 'loving': 1527, 'burnt': 1528, 'mistake': 1529, 'fervor': 1530, 'quickening': 1531, 'spell': 1532, 'kick': 1533, 'legs': 1534, 'army': 1535, 'mule': 1536, 'darkest': 1537, 'evening': 1538, 'builder': 1539, 'building': 1540, 'huh': 1541, 'bathtub': 1542, 'fervent': 1543, 'prayer': 1544, 'humble': 1545, 'tonight': 1546, 'care': 1547, 'provision': 1548, 'shine': 1549, 'bright': 1550, 'groan': 1551, 'roll': 1552, 'mount': 1553, 'gun': 1554, 'blowing': 1555, 'tis': 1556, 'wasted': 1557, 'highest': 1558, 'sounds': 1559, 'dry': 1560, 'rattling': 1561, 'shutter': 1562, 'meet': 1563, 'elsewhere': 1564, 'walls': 1565, 'buried': 1566, 'table': 1567, 'rear': 1568, 'conquered': 1569, 'scruples': 1570, 'symbol': 1571, 'token': 1572, 'writer': 1573, 'nailed': 1574, 'embalmed': 1575, 'echoing': 1576, 'songs': 1577, 'wellâ€”iâ€”beâ€”': 1578, 'duty': 1579, 'horse': 1580, 'queer': 1581, 'untidy': 1582, 'quietude': 1583, 'sultriness': 1584, 'slumber': 1585, 'reason': 1586, '2o3': 1587, 'simple': 1588, 'sweets': 1589, 'sours': 1590, 'beyond': 1591, 'seedpod': 1592, 'speaking': 1593, 'singing': 1594, 'bandmusic': 1595, 'playing': 1596, 'realms': 1597, 'boreal': 1598, 'sweep': 1599, 'cliff': 1600, 'painted': 1601, 'solace': 1602, 'undivided': 1603, 'body': 1604, 'bewitched': 1605, 'longer': 1606, 'luminous': 1607, 'endless': 1608, 'ages': 1609, 'cherish': 1610, 'fame': 1611, 'mossy': 1612, 'banks': 1613, 'meandering': 1614, 'paths': 1615, 'bout': 1616, 'dispose': 1617, 'either': 1618, 'island': 1619, 'smile': 1620, 'wait': 1621, 'couldnt': 1622, 'climb': 1623, 'slippery': 1624, 'slope': 1625, 'fifty': 1626, 'dollars': 1627, 'langshang': 1628, 'slowly': 1629, 'hazes': 1630, 'ride': 1631, 'rode': 1632, 'withering': 1633, 'angelic': 1634, 'gift': 1635, 'within': 1636, 'paused': 1637, 'rested': 1638, 'hook': 1639, 'sat': 1640, 'shouted': 1641, 'yield': 1642, 'fist': 1643, 'bushy': 1644, 'hide': 1645, 'relish': 1646, 'remembered': 1647, 'johnjoe': 1648, 'grannys': 1649, 'unafraid': 1650, 'loves': 1651, 'grownup': 1652, 'killed': 1653, 'instead': 1654, 'assailed': 1655, 'monarchs': 1656, 'estate': 1657, 'without': 1658, 'breath': 1659, 'mighty': 1660, 'slightly': 1661, 'sinking': 1662, 'dull': 1663, 'tide': 1664, 'robinsons': 1665, 'violin': 1666, 'wake': 1667, 'sigh': 1668, 'ghostâ€”': 1669, 'dead': 1670, 'keeping': 1671, 'followed': 1672, 'mile': 1673, 'creation': 1674, 'shoulders': 1675, 'dragging': 1676, 'strands': 1677, 'headless': 1678, 'aftermath': 1679, 'ashes': 1680, 'sanctified': 1681, 'elysian': 1682, 'fire': 1683, 'real': 1684, 'satisfy': 1685, 'together': 1686, 'craters': 1687, 'verge': 1688, 'discordant': 1689, 'beloved': 1690, 'heroes': 1691, 'deathless': 1692, 'roam': 1693, 'gets': 1694, 'possessed': 1695, 'accounts': 1696, 'headshake': 1697, 'stopping': 1698, 'scarce': 1699, 'prize': 1700, 'knees': 1701, 'hellforleather': 1702, 'immemorial': 1703, 'miraculous': 1704, 'crescent': 1705, 'laurels': 1706, 'belong': 1707, 'treat': 1708, 'due': 1709, 'respect': 1710, 'stripped': 1711, 'serene': 1712, 'hopes': 1713, 'finding': 1714, 'kneel': 1715, 'sorrowfully': 1716, 'lifting': 1717, 'forgot': 1718, 'papered': 1719, 'johns': 1720, 'farmer': 1721, 'blaming': 1722, 'whod': 1723, 'heman': 1724, 'lapish': 1725, 'soon': 1726, 'satisfied': 1727, 'withdrawing': 1728, 'downstairs': 1729, 'pay': 1730, 'clad': 1731, 'white': 1732, 'violet': 1733, 'bank': 1734, 'creases': 1735, 'hen': 1736, 'starks': 1737, 'doubtless': 1738, 'today': 1739, 'dwell': 1740, 'longforgotten': 1741, 'bowers': 1742, 'bear': 1743, 'enchanted': 1744, 'roof': 1745, 'float': 1746, 'red': 1747, 'levin': 1748, 'rule': 1749, 'arm': 1750, 'describing': 1751, 'rings': 1752, 'lantern': 1753, 'silence': 1754, 'rights': 1755, 'harder': 1756, 'briskly': 1757, 'slow': 1758, 'thered': 1759, 'boston': 1760, 'mortal': 1761, 'fathom': 1762, 'driven': 1763, 'hamadryad': 1764, 'amys': 1765, 'recognize': 1766, 'post': 1767, 'goes': 1768, 'whirling': 1769, 'frenzies': 1770, 'crib': 1771, 'sures': 1772, 'born': 1773, 'waters': 1774, 'watering': 1775, 'free': 1776, 'baby': 1777, 'hearthistories': 1778, 'enwritten': 1779, 'daring': 1780, 'ambition': 1781, 'itd': 1782, 'stronger': 1783, 'utter': 1784, 'spells': 1785, 'lank': 1786, 'shivery': 1787, 'halfdrowned': 1788, 'birds': 1789, 'stately': 1790, 'deeptoned': 1791, 'wildest': 1792, 'plunged': 1793, 'tyrant': 1794, 'steel': 1795, 'solemn': 1796, 'peals': 1797, 'sills': 1798, 'extended': 1799, 'news': 1800, 'carryâ€”if': 1801, 'intelligence': 1802, 'sill': 1803, 'harm': 1804, 'terror': 1805, 'letting': 1806, 'prospect': 1807, 'terminates': 1808, 'lipbegotten': 1809, 'feather': 1810, 'forgive': 1811, 'paradise': 1812, 'pairing': 1813, 'ends': 1814, 'silverysilken': 1815, 'veil': 1816, 'loveless': 1817, 'flock': 1818, 'infant': 1819, 'astride': 1820, 'began': 1821, 'footsteps': 1822, 'absence': 1823, 'silent': 1824, 'liquescent': 1825, 'warm': 1826, 'fine': 1827, 'fibrils': 1828, 'richer': 1829, 'wilder': 1830, 'diviner': 1831, 'sense': 1832, 'pens': 1833, 'thrills': 1834, 'hinted': 1835, 'chains': 1836, 'hermon': 1837, 'hill': 1838, 'fingerbone': 1839, 'everyone': 1840, 'secret': 1841, 'halfway': 1842, 'rolls': 1843, 'ether': 1844, 'celestial': 1845, 'spheres': 1846, 'tears': 1847, 'gentle': 1848, 'lot': 1849, 'deem': 1850, 'wise': 1851, 'gilt': 1852, 'spilled': 1853, 'window': 1854, 'happen': 1855, 'prefer': 1856, 'demon': 1857, 'excuse': 1858, 'roar': 1859, 'upstairs': 1860, 'alive': 1861, 'cottages': 1862, 'clouds': 1863, 'low': 1864, 'trailing': 1865, 'moments': 1866, 'misted': 1867, 'ceasing': 1868, 'hymns': 1869, 'attend': 1870, 'concerned': 1871, 'someones': 1872, 'height': 1873, 'adventure': 1874, 'furs': 1875, 'seeking': 1876, 'hampshire': 1877, 'beats': 1878, 'coupling': 1879, 'saturn': 1880, 'mars': 1881, 'sometime': 1882, 'fix': 1883, 'seize': 1884, 'catscradle': 1885, 'strings': 1886, 'undo': 1887, 'sovereignty': 1888, 'lore': 1889, 'ancestry': 1890, 'also': 1891, 'great': 1892, 'saved': 1893, 'despairs': 1894, 'unhallowed': 1895, 'wouldst': 1896, 'lavas': 1897, 'restlessly': 1898, 'outer': 1899, 'windowsill': 1900, 'nausicaa': 1901, 'dreadful': 1902, 'fool': 1903, 'isola': 1904, 'doro': 1905, 'fior': 1906, 'di': 1907, 'levante': 1908, 'helping': 1909, 'tinkling': 1910, 'telling': 1911, 'passer': 1912, 'houses': 1913, 'street': 1914, 'wilds': 1915, 'seraph': 1916, 'spread': 1917, 'pinion': 1918, 'answering': 1919, 'knock': 1920, 'plain': 1921, 'pocket': 1922, 'worn': 1923, 'greatly': 1924, 'breaking': 1925, 'hiss': 1926, 'spray': 1927, 'yard': 1928, 'mustnt': 1929, 'mans': 1930, 'foreign': 1931, 'soft': 1932, 'dissyllables': 1933, 'cared': 1934, 'walked': 1935, 'alone': 1936, 'sunday': 1937, 'appear': 1938, 'beside': 1939, 'swollen': 1940, 'tight': 1941, 'feared': 1942, 'fraught': 1943, 'hyacinthine': 1944, 'purple': 1945, 'zante': 1946, 'revolving': 1947, 'scene': 1948, 'italian': 1949, 'tones': 1950, 'murmured': 1951, 'famous': 1952, 'studying': 1953, 'tongue': 1954, 'receipted': 1955, 'outdoors': 1956, 'profanation': 1957, 'blend': 1958, 'shadows': 1959, 'seraphic': 1960, 'glancing': 1961, 'incredulous': 1962, 'luck': 1963, 'warmer': 1964, 'impulse': 1965, 'touch': 1966, 'knows': 1967, 'quenching': 1968, 'fires': 1969, 'cloud': 1970, 'smoke': 1971, 'cellarstairs': 1972, 'sorrow': 1973, 'stove': 1974, 'kiting': 1975, 'neednt': 1976, 'memories': 1977, 'radiant': 1978, 'ridgepole': 1979, 'stride': 1980, 'broomstick': 1981, 'unfortunately': 1982, 'joined': 1983, 'excited': 1984, 'fun': 1985, 'happy': 1986, 'clime': 1987, 'ice': 1988, 'filled': 1989, 'purse': 1990, 'petered': 1991, 'banking': 1992, 'leases': 1993, 'proclaimed': 1994, 'neither': 1995, 'gailyjewelld': 1996, 'idea': 1997, 'deareye': 1998, 'ranged': 1999, 'pallor': 2000, 'giddy': 2001, 'legends': 2002, 'unprotected': 2003, 'fought': 2004, 'battle': 2005, 'loss': 2006, 'drink': 2007, 'again': 2008, 'confusion': 2009, 'unusual': 2010, 'difference': 2011, 'affairs': 2012, 'tail': 2013, 'fanes': 2014, 'babylonlike': 2015, 'hudsons': 2016, 'bay': 2017, 'worth': 2018, 'mortgage': 2019, 'tho': 2020, 'godliness': 2021, 'bade': 2022, 'graciously': 2023, 'aglitter': 2024, 'admiring': 2025, 'universal': 2026, 'wire': 2027, 'sold': 2028, 'renewed': 2029, 'sadder': 2030, 'bid': 2031, 'timeeaten': 2032, 'tremble': 2033, 'defeat': 2034, 'vulture': 2035, 'realities': 2036, 'ripples': 2037, 'curl': 2038, 'facts': 2039, 'wide': 2040, 'enter': 2041, 'iâ€”': 2042, 'queenly': 2043, 'lily': 2044, 'dale': 2045, 'acquainted': 2046, 'maybe': 2047, 'idled': 2048, 'hillside': 2049, 'weep': 2050, 'glad': 2051, 'reach': 2052, 'libation': 2053, 'tyrannys': 2054, 'blood': 2055, 'raspberries': 2056, 'hew': 2057, 'shape': 2058, 'lion': 2059, 'tumultuous': 2060, 'fifteen': 2061, 'goodbye': 2062, 'bedroom': 2063, 'agony': 2064, 'sobbed': 2065, 'drop': 2066, 'woes': 2067, 'passionate': 2068, 'fit': 2069, 'rejected': 2070, 'mothers': 2071, 'pushed': 2072, 'enshrined': 2073, 'struck': 2074, 'bent': 2075, 'undergrowth': 2076, 'groping': 2077, 'jam': 2078, 'melt': 2079, 'dormant': 2080, 'hurry': 2081, 'unhitch': 2082, 'ready': 2083, 'outsiders': 2084, 'monolithic': 2085, 'former': 2086, 'budded': 2087, 'glimpse': 2088, 'curtain': 2089, 'laces': 2090, 'clasps': 2091, 'laughed': 2092, 'drowned': 2093, 'bakeshop': 2094, 'meals': 2095, 'blotting': 2096, 'utterly': 2097, 'safe': 2098, 'particular': 2099, 'burns': 2100, 'sunny': 2101, 'cheek': 2102, 'watchman': 2103, 'beat': 2104, 'shut': 2105, 'windbreak': 2106, 'obscured': 2107, 'earthly': 2108, 'frogs': 2109, 'peeping': 2110, 'shrill': 2111, 'boy': 2112, 'riches': 2113, 'twelvemonth': 2114, 'cider': 2115, 'thirsty': 2116, 'pretense': 2117, 'covered': 2118, 'situation': 2119, 'raised': 2120, 'closing': 2121, 'sends': 2122, 'fold': 2123, 'everywhere': 2124, 'anywhere': 2125, 'burning': 2126, 'measures': 2127, 'suit': 2128, 'root': 2129, 'founts': 2130, 'playthings': 2131, 'children': 2132, 'hitched': 2133, 'unblanketed': 2134, 'fancied': 2135, 'six': 2136, 'milk': 2137, 'bat': 2138, 'bottom': 2139, 'walk': 2140, 'nails': 2141, 'nail': 2142, 'million': 2143, 'lizards': 2144, 'carry': 2145, 'ralle': 2146, 'sioux': 2147, 'control': 2148, 'bard': 2149, 'wisest': 2150, 'nonsense': 2151, 'undone': 2152, 'judged': 2153, 'crystal': 2154, 'tutelar': 2155, 'shrine': 2156, 'worry': 2157, 'strain': 2158, 'stop': 2159, 'face': 2160, 'melancholy': 2161, 'seek': 2162, 'threshold': 2163, 'wideopen': 2164, 'gate': 2165, 'baptismal': 2166, 'font': 2167, 'travellers': 2168, 'valley': 2169, 'treasure': 2170, 'jewelled': 2171, 'stillgoing': 2172, 'joints': 2173, 'purified': 2174, 'electric': 2175, 'surest': 2176, 'riders': 2177, 'swift': 2178, 'closes': 2179, 'please': 2180, 'ours': 2181, 'loom': 2182, 'destination': 2183, 'destinys': 2184, 'tending': 2185, 'haunt': 2186, 'panther': 2187, 'steps': 2188, 'reclining': 2189, 'poetess': 2190, 'verses': 2191, 'mist': 2192, 'harmodious': 2193, 'gallant': 2194, 'reconnoitre': 2195, 'nebulous': 2196, 'muffled': 2197, 'mute': 2198, 'politician': 2199, 'odd': 2200, 'seasons': 2201, 'lizard': 2202, 'ray': 2203, 'disturbed': 2204, 'village': 2205, 'fences': 2206, 'jupiter': 2207, 'cut': 2208, 'lutes': 2209, 'welltuned': 2210, 'sancta': 2211, 'maria': 2212, 'moving': 2213, 'musically': 2214, 'trod': 2215, 'uncomfortably': 2216, 'crunching': 2217, 'repining': 2218, 'pegged': 2219, 'wear': 2220, 'wagon': 2221, 'wheels': 2222, 'especially': 2223, 'halting': 2224, 'perplexed': 2225, 'barrier': 2226, 'turrettops': 2227, 'cast': 2228, 'viola': 2229, 'heartstrings': 2230, 'lute': 2231, 'indians': 2232, 'myth': 2233, 'chicamoztoc': 2234, 'beneath': 2235, 'tamarind': 2236, 'lighting': 2237, 'manages': 2238, 'warn': 2239, 'verified': 2240, 'next': 2241, 'carried': 2242, 'itself': 2243, 'pile': 2244, 'therefore': 2245, 'future': 2246, 'row': 2247, 'ideas': 2248, 'tried': 2249, 'text': 2250, 'bidden': 2251, 'cane': 2252, 'statement': 2253, 'relationship': 2254, 'according': 2255, 'risk': 2256, 'means': 2257, 'caves': 2258, 'againâ€”': 2259, 'deliverance': 2260, 'upturned': 2261, 'myrtle': 2262, 'entwine': 2263, 'rivers': 2264, 'nine': 2265, 'removed': 2266, 'correct': 2267, 'err': 2268, 'hawks': 2269, 'chickentime': 2270, 'fãªte': 2271, 'lord': 2272, 'race': 2273, 'auk': 2274, 'sweetly': 2275, 'scintillant': 2276, 'hence': 2277, 'counts': 2278, 'ideals': 2279, 'conies': 2280, 'romp': 2281, 'monarch': 2282, 'dominion': 2283, 'ramparts': 2284, 'plumed': 2285, 'pallid': 2286, 'watch': 2287, 'stained': 2288, 'vegetation': 2289, 'unhouse': 2290, 'weeping': 2291, 'ridiculous': 2292, 'coasting': 2293, 'cards': 2294, 'yours': 2295, 'branch': 2296, 'hail': 2297, 'presence': 2298, 'domes': 2299, 'spires': 2300, 'kingly': 2301, 'halls': 2302, 'scoriac': 2303, 'otherwise': 2304, 'sailed': 2305, 'sister': 2306, 'trodden': 2307, 'black': 2308, 'magical': 2309, 'sad': 2310, 'interest': 2311, 'moment': 2312, 'jerk': 2313, 'twitch': 2314, 'late': 2315, 'werent': 2316, 'country': 2317, 'cultures': 2318, 'uncertain': 2319, 'torn': 2320, 'naiad': 2321, 'flood': 2322, 'welcomed': 2323, 'lave': 2324, 'shoes': 2325, 'motionless': 2326, 'golden': 2327, 'distinct': 2328, 'wheres': 2329, 'feel': 2330, 'hurried': 2331, 'nodded': 2332, 'treacherous': 2333, 'rid': 2334, 'pen': 2335, 'falls': 2336, 'powerless': 2337, 'shivering': 2338, 'harmless': 2339, 'hears': 2340, 'happened': 2341, 'claim': 2342, 'constellations': 2343, 'remembering': 2344, 'blandishments': 2345, 'defied': 2346, 'tumble': 2347, 'stricken': 2348, 'temples': 2349, 'graves': 2350, 'flew': 2351, 'brightly': 2352, 'crowd': 2353, 'meridian': 2354, 'glare': 2355, 'card': 2356, 'chisel': 2357, 'enormous': 2358, 'glacier': 2359, 'dialect': 2360, 'reared': 2361, 'head': 2362, 'divine': 2363, 'shudder': 2364, 'notes': 2365, 'fathomless': 2366, 'capacity': 2367, 'acquaintance': 2368, 'adventurously': 2369, 'smash': 2370, 'destruction': 2371, 'sew': 2372, 'swellings': 2373, 'hint': 2374, 'mounted': 2375, 'grassy': 2376, 'places': 2377, 'bleak': 2378, 'scenes': 2379, 'departed': 2380, 'weight': 2381, 'snows': 2382, 'outstretched': 2383, 'plowed': 2384, 'digger': 2385, 'skyhigh': 2386, 'serial': 2387, 'ordeal': 2388, 'swept': 2389, 'heavens': 2390, 'turning': 2391, 'heel': 2392, 'arms': 2393, 'adoring': 2394, 'airs': 2395, 'fiftyfive': 2396, 'meanwhile': 2397, 'inquired': 2398, 'unwilling': 2399, 'explain': 2400, 'fullorbed': 2401, 'soaring': 2402, 'axis': 2403, 'mess': 2404, 'wanderers': 2405, 'berries': 2406, 'scarlet': 2407, 'farmhouse': 2408, 'shouting': 2409, 'pipe': 2410, 'mouth': 2411, 'doubted': 2412, 'point': 2413, 'bare': 2414, 'warriors': 2415, 'unknown': 2416, 'foe': 2417, 'important': 2418, 'gathered': 2419, 'color': 2420, 'music': 2421, 'weeks': 2422, 'dangle': 2423, 'raspberry': 2424, 'vines': 2425, 'sparkling': 2426, 'evermore': 2427, 'verse': 2428, 'escaped': 2429, 'outrage': 2430, 'roamed': 2431, 'breeder': 2432, 'pit': 2433, 'digged': 2434, 'wed': 2435, 'novelty': 2436, 'spin': 2437, 'ended': 2438, 'doll': 2439, 'pasture': 2440, 'rig': 2441, 'outwalked': 2442, 'softly': 2443, 'send': 2444, 'sailing': 2445, 'burned': 2446, 'stake': 2447, 'pieces': 2448, 'hasten': 2449, 'linger': 2450, 'different': 2451, 'despite': 2452, 'eternal': 2453, 'chases': 2454, 'lowes': 2455, 'baileys': 2456, 'garlands': 2457, 'heed': 2458, 'utterance': 2459, 'human': 2460, 'astartes': 2461, 'bediamonded': 2462, 'interrupted': 2463, 'cry': 2464, 'hesperides': 2465, 'warrens': 2466, 'towns': 2467, 'resemble': 2468, 'overflowing': 2469, 'plenty': 2470, 'disappeared': 2471, 'heres': 2472, 'hoping': 2473, 'partial': 2474, 'greatgrandmother': 2475, 'lyre': 2476, 'lingered': 2477, 'wonderful': 2478, 'plan': 2479, 'danger': 2480, 'sorry': 2481, 'travel': 2482, 'nothings': 2483, 'pays': 2484, 'seriously': 2485, 'bearings': 2486, 'israfeli': 2487, 'despisest': 2488, 'evil': 2489, 'robes': 2490, 'lifes': 2491, 'victories': 2492, 'marked': 2493, 'backs': 2494, 'ancestral': 2495, 'neighbours': 2496, 'shift': 2497, 'quarry': 2498, 'coat': 2499, 'seated': 2500, 'pull': 2501, 'apart': 2502, 'virtue': 2503, 'humanity': 2504, 'knowing': 2505, 'leads': 2506, 'deserted': 2507, 'brain': 2508, 'leak': 2509, 'emptied': 2510, 'swish': 2511, 'mowing': 2512, 'governor': 2513, 'improve': 2514, 'tile': 2515, 'rocks': 2516, 'waterfall': 2517, 'literally': 2518, 'frozen': 2519, 'united': 2520, 'strengths': 2521, 'boys': 2522, 'hunters': 2523, 'stirred': 2524, 'abysses': 2525, 'lair': 2526, 'idols': 2527, 'diamond': 2528, 'piercing': 2529, 'ledges': 2530, 'ruled': 2531, 'southeastnorthwest': 2532, 'weve': 2533, 'gaunt': 2534, 'luxuriating': 2535, 'beast': 2536, 'descended': 2537, 'unimpassioned': 2538}\n"
     ]
    }
   ],
   "source": [
    "print(word2idx)\n",
    "# here unk is just for make indexing for one bcs we have multiplicaiton ahead"
   ]
  },
  {
   "cell_type": "code",
   "execution_count": 28,
   "metadata": {},
   "outputs": [
    {
     "data": {
      "text/plain": [
       "2539"
      ]
     },
     "execution_count": 28,
     "metadata": {},
     "output_type": "execute_result"
    }
   ],
   "source": [
    "len(word2idx )"
   ]
  },
  {
   "cell_type": "code",
   "execution_count": 30,
   "metadata": {},
   "outputs": [],
   "source": [
    "# conver all data into integer formate\n",
    "# create each line of word into integer list\n",
    "\n",
    "train_text_int=[]\n",
    "test_text_int=[]\n",
    "\n",
    "for text in train_text:\n",
    "    tokens=text.split() \n",
    "    line_as_int=[word2idx[token] for token in tokens ]\n",
    "    train_text_int.append(line_as_int)\n",
    "\n",
    "\n",
    "for text in test_text:\n",
    "    tokens=text.split()\n",
    "    line_as_int=[word2idx.get(token,0)for token in tokens]\n",
    "    test_text_int.append(line_as_int)\n"
   ]
  },
  {
   "cell_type": "code",
   "execution_count": 33,
   "metadata": {},
   "outputs": [
    {
     "name": "stdout",
     "output_type": "stream",
     "text": [
      "int list of each line train [[14, 385, 208, 386, 387, 14, 8, 388], [3, 389, 49, 172, 390, 391, 12, 19, 392], [39, 393, 3, 191, 8, 394, 395], [396, 125, 397], [398, 5, 399], [6, 60, 400, 93, 19, 401, 402, 403], [207, 226, 404, 93, 66, 73, 19, 405, 12, 3], [34, 406, 8, 407, 145, 408], [14, 19, 409, 410, 12, 19, 411], [412, 6, 165, 137, 3, 413, 79, 414, 100], [77, 130, 77, 165, 137, 229, 131, 73], [415, 416, 83, 19, 392], [172, 19, 417, 418, 419, 226, 420, 14, 47], [421, 54, 19, 422, 40, 12, 19, 29], [286, 3, 423, 424, 39, 425, 36, 207, 426]]\n",
      "int list of each line test  [[39, 0, 0], [77, 167, 55, 0, 300, 102, 84, 1956], [1971, 0, 0, 19, 0, 12, 429, 450], [830, 917, 306, 168, 1923, 1, 0, 39, 43], [0, 6, 413, 79, 1, 60, 107, 2467, 0], [548, 16, 58, 59, 309, 36, 655, 43, 103, 125], [556, 18, 343, 107, 87, 1100], [77, 625, 782, 1892, 1892, 1892, 1892, 755], [19, 0, 0, 0, 1192, 84, 139, 344], [103, 987, 1, 1369], [32, 6, 0, 222, 7, 902, 226, 0], [189, 390, 1744, 596, 796], [930, 6, 105], [706, 338], [1289, 6, 235, 2330, 15, 1556, 18, 1485]]\n"
     ]
    }
   ],
   "source": [
    "print(\"int list of each line train\",train_text_int[100:115])\n",
    "print(\"int list of each line test \",test_text_int[100:115])"
   ]
  },
  {
   "cell_type": "code",
   "execution_count": 34,
   "metadata": {},
   "outputs": [],
   "source": [
    "# initialize A and pi matrices - for both classes\n",
    "V = len(word2idx) #total no of vector or words is equvalant to M in theory\n",
    "\n",
    "A0 = np.ones((V, V)) #matrix of  A term probality of state transiton term\n",
    "pi0 = np.ones(V) #list of propablity of first term\n",
    "\n",
    "A1 = np.ones((V, V))\n",
    "pi1 = np.ones(V)"
   ]
  },
  {
   "cell_type": "code",
   "execution_count": 35,
   "metadata": {},
   "outputs": [],
   "source": [
    "# now mathematical calculation for A and Pi\n",
    "# here one thing imp that data we pass in is only for single class at a time\n",
    "def compute_counts(test_text_int,A,Pi):\n",
    "    for tokens in test_text_int:\n",
    "        last_idx=None\n",
    "        for idx in tokens:\n",
    "            if last_idx is None:\n",
    "                # this is first word in sentence\n",
    "                Pi[idx]+=1\n",
    "            else:\n",
    "                # last word exist so count the word\n",
    "                A[last_idx,idx]+=1\n",
    "                # update the last index\n",
    "                last_idx=idx\n",
    "\n",
    "# in 1st case we want value from the first class which is class 0 and papulate them to A and pi\n",
    "compute_counts([t for t, y in zip(train_text_int, Ytrain) if y == 0], A0, pi0) \n",
    "compute_counts([t for t, y in zip(train_text_int, Ytrain) if y == 1], A1, pi1)"
   ]
  },
  {
   "cell_type": "code",
   "execution_count": 37,
   "metadata": {},
   "outputs": [
    {
     "name": "stdout",
     "output_type": "stream",
     "text": [
      "[[1. 1. 1. ... 1. 1. 1.]\n",
      " [1. 1. 1. ... 1. 1. 1.]\n",
      " [1. 1. 1. ... 1. 1. 1.]\n",
      " ...\n",
      " [1. 1. 1. ... 1. 1. 1.]\n",
      " [1. 1. 1. ... 1. 1. 1.]\n",
      " [1. 1. 1. ... 1. 1. 1.]]\n",
      "[ 1. 56.  1. ...  1.  1.  2.]\n"
     ]
    }
   ],
   "source": [
    "print(A0)\n",
    "print(pi0)"
   ]
  },
  {
   "cell_type": "code",
   "execution_count": 38,
   "metadata": {},
   "outputs": [],
   "source": [
    "# normalize A and pi so they are valid probability matrices\n",
    "# convince yourself that this is equivalent to the formulas shown before\n",
    "A0 /= A0.sum(axis=1, keepdims=True) #keepdims mean keep the same dimention intact\n",
    "pi0 /= pi0.sum()\n",
    "\n",
    "A1 /= A1.sum(axis=1, keepdims=True)\n",
    "pi1 /= pi1.sum()"
   ]
  },
  {
   "cell_type": "code",
   "execution_count": 40,
   "metadata": {},
   "outputs": [],
   "source": [
    "# log A and pi since we don't need the actual probs\n",
    "logA0 = np.log(A0)\n",
    "logpi0 = np.log(pi0)\n",
    "\n",
    "logA1 = np.log(A1)\n",
    "logpi1 = np.log(pi1)"
   ]
  },
  {
   "cell_type": "code",
   "execution_count": 42,
   "metadata": {},
   "outputs": [
    {
     "data": {
      "text/plain": [
       "(0.34177997527812115, 0.6582200247218789)"
      ]
     },
     "execution_count": 42,
     "metadata": {},
     "output_type": "execute_result"
    }
   ],
   "source": [
    "# compute priors\n",
    "count0 = sum(y == 0 for y in Ytrain)\n",
    "count1 = sum(y == 1 for y in Ytrain)\n",
    "total = len(Ytrain)\n",
    "p0 = count0 / total\n",
    "p1 = count1 / total\n",
    "logp0 = np.log(p0)\n",
    "logp1 = np.log(p1)\n",
    "p0, p1"
   ]
  },
  {
   "cell_type": "code",
   "execution_count": 43,
   "metadata": {},
   "outputs": [],
   "source": [
    "# build a classifier\n",
    "class Classifier:\n",
    "  def __init__(self, logAs, logpis, logpriors):\n",
    "    self.logAs = logAs\n",
    "    self.logpis = logpis\n",
    "    self.logpriors = logpriors\n",
    "    self.K = len(logpriors) # number of classes\n",
    "\n",
    "  def _compute_log_likelihood(self, input_, class_):\n",
    "    logA = self.logAs[class_]\n",
    "    logpi = self.logpis[class_]\n",
    "\n",
    "    last_idx = None\n",
    "    logprob = 0\n",
    "    for idx in input_:\n",
    "      if last_idx is None:\n",
    "        # it's the first token\n",
    "        logprob += logpi[idx]\n",
    "      else:\n",
    "        logprob += logA[last_idx, idx]\n",
    "      \n",
    "      # update last_idx\n",
    "      last_idx = idx\n",
    "    \n",
    "    return logprob\n",
    "  \n",
    "  def predict(self, inputs):\n",
    "    predictions = np.zeros(len(inputs))\n",
    "    for i, input_ in enumerate(inputs):\n",
    "      posteriors = [self._compute_log_likelihood(input_, c) + self.logpriors[c] \\\n",
    "             for c in range(self.K)]\n",
    "      pred = np.argmax(posteriors)\n",
    "      predictions[i] = pred\n",
    "    return predictions"
   ]
  },
  {
   "cell_type": "code",
   "execution_count": 44,
   "metadata": {},
   "outputs": [],
   "source": [
    "# each array must be in order since classes are assumed to index these lists\n",
    "clf = Classifier([logA0, logA1], [logpi0, logpi1], [logp0, logp1])"
   ]
  },
  {
   "cell_type": "code",
   "execution_count": 45,
   "metadata": {},
   "outputs": [
    {
     "name": "stdout",
     "output_type": "stream",
     "text": [
      "Train acc: 0.7317676143386898\n"
     ]
    }
   ],
   "source": [
    "Ptrain = clf.predict(train_text_int)\n",
    "print(f\"Train acc: {np.mean(Ptrain == Ytrain)}\")"
   ]
  },
  {
   "cell_type": "code",
   "execution_count": 46,
   "metadata": {},
   "outputs": [
    {
     "name": "stdout",
     "output_type": "stream",
     "text": [
      "Test acc: 0.7203703703703703\n"
     ]
    }
   ],
   "source": [
    "Ptest = clf.predict(test_text_int)\n",
    "print(f\"Test acc: {np.mean(Ptest == Ytest)}\")"
   ]
  },
  {
   "cell_type": "code",
   "execution_count": 47,
   "metadata": {},
   "outputs": [],
   "source": [
    "from sklearn.metrics import confusion_matrix, f1_score\n"
   ]
  },
  {
   "cell_type": "code",
   "execution_count": 48,
   "metadata": {},
   "outputs": [
    {
     "data": {
      "text/plain": [
       "array([[ 140,  413],\n",
       "       [  21, 1044]], dtype=int64)"
      ]
     },
     "execution_count": 48,
     "metadata": {},
     "output_type": "execute_result"
    }
   ],
   "source": [
    "cm = confusion_matrix(Ytrain, Ptrain)\n",
    "cm"
   ]
  },
  {
   "cell_type": "code",
   "execution_count": 49,
   "metadata": {},
   "outputs": [
    {
     "data": {
      "text/plain": [
       "0.8279143536875496"
      ]
     },
     "execution_count": 49,
     "metadata": {},
     "output_type": "execute_result"
    }
   ],
   "source": [
    "f1_score(Ytrain, Ptrain)"
   ]
  },
  {
   "cell_type": "code",
   "execution_count": 50,
   "metadata": {},
   "outputs": [
    {
     "data": {
      "text/plain": [
       "0.8254335260115606"
      ]
     },
     "execution_count": 50,
     "metadata": {},
     "output_type": "execute_result"
    }
   ],
   "source": [
    "f1_score(Ytest, Ptest)"
   ]
  },
  {
   "cell_type": "code",
   "execution_count": null,
   "metadata": {},
   "outputs": [],
   "source": []
  }
 ],
 "metadata": {
  "kernelspec": {
   "display_name": "myNLP_venv",
   "language": "python",
   "name": "python3"
  },
  "language_info": {
   "codemirror_mode": {
    "name": "ipython",
    "version": 3
   },
   "file_extension": ".py",
   "mimetype": "text/x-python",
   "name": "python",
   "nbconvert_exporter": "python",
   "pygments_lexer": "ipython3",
   "version": "3.11.0"
  },
  "orig_nbformat": 4
 },
 "nbformat": 4,
 "nbformat_minor": 2
}
