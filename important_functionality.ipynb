{
 "cells": [
  {
   "cell_type": "code",
   "execution_count": 8,
   "metadata": {},
   "outputs": [],
   "source": [
    "\n",
    "\n"
   ]
  },
  {
   "cell_type": "code",
   "execution_count": 12,
   "metadata": {},
   "outputs": [],
   "source": [
    "import numpy as np\n",
    "import pandas as pd"
   ]
  },
  {
   "cell_type": "code",
   "execution_count": 25,
   "metadata": {},
   "outputs": [],
   "source": [
    "prob={('Ad', 'boost'): {'sales': 1.0},\n",
    " ('sales', 'Time'): {'boost': 1.0},\n",
    " ('boost', 'Warner'): {'Time': 1.0},\n",
    " ('Time', 'profit'): {'Warner': 1.0},\n",
    " ('Quarterly', 'at'): {'profits': 1.0},\n",
    " ('profits', 'US'): {'at': 1.0},\n",
    " ('at', 'media'): {'US': 1.0},\n",
    " ('US', 'giant'): {'media': 0.1,\n",
    "  'telecoms': 0.1,\n",
    "  'banking': 0.2,\n",
    "  'foods': 0.1,\n",
    "  'retail': 0.1,\n",
    "  'oil': 0.2,\n",
    "  'mortgage': 0.1,\n",
    "  'agrochemical': 0.1},\n",
    " ('media', 'TimeWarner'): {'giant': 1.0},\n",
    " ('giant', 'jumped'): {'TimeWarner': 1.0},\n",
    " ('TimeWarner', '76'): {'jumped': 1.0},\n",
    " ('jumped', '%'): {'76': 0.14285714285714285,\n",
    "  '1.8': 0.14285714285714285,\n",
    "  '11': 0.14285714285714285,\n",
    "  '6': 0.14285714285714285,\n",
    "  '10.7': 0.14285714285714285,\n",
    "  '7': 0.14285714285714285,\n",
    "  '22': 0.14285714285714285},\n",
    " ('76', 'to'): {'%': 1.0},\n",
    " ('%', '$'): {'to': 0.7727272727272727, 'at': 0.22727272727272727},\n",
    " ('to', '1.13bn'): {'$': 1.0}\n",
    "}"
   ]
  },
  {
   "cell_type": "code",
   "execution_count": 30,
   "metadata": {},
   "outputs": [
    {
     "ename": "NameError",
     "evalue": "name 'key' is not defined",
     "output_type": "error",
     "traceback": [
      "\u001b[1;31m---------------------------------------------------------------------------\u001b[0m",
      "\u001b[1;31mNameError\u001b[0m                                 Traceback (most recent call last)",
      "Cell \u001b[1;32mIn[30], line 1\u001b[0m\n\u001b[1;32m----> 1\u001b[0m \u001b[39mprint\u001b[39m(prob[key])\n",
      "\u001b[1;31mNameError\u001b[0m: name 'key' is not defined"
     ]
    }
   ],
   "source": [
    "print(prob[])"
   ]
  },
  {
   "cell_type": "code",
   "execution_count": 27,
   "metadata": {},
   "outputs": [],
   "source": [
    "def sample_word(d):\n",
    "    p0=np.random.random()\n",
    "    coummulative=0\n",
    "    for t ,p in d.item():\n",
    "        coummulative+=p\n",
    "        if p<coummulative:\n",
    "            return t\n",
    "    assert(False)    "
   ]
  },
  {
   "cell_type": "code",
   "execution_count": 29,
   "metadata": {},
   "outputs": [
    {
     "ename": "NameError",
     "evalue": "name 'key' is not defined",
     "output_type": "error",
     "traceback": [
      "\u001b[1;31m---------------------------------------------------------------------------\u001b[0m",
      "\u001b[1;31mNameError\u001b[0m                                 Traceback (most recent call last)",
      "Cell \u001b[1;32mIn[29], line 1\u001b[0m\n\u001b[1;32m----> 1\u001b[0m sample_word(prob[key])\n",
      "\u001b[1;31mNameError\u001b[0m: name 'key' is not defined"
     ]
    }
   ],
   "source": [
    "sample_word(prob)\n"
   ]
  },
  {
   "cell_type": "code",
   "execution_count": null,
   "metadata": {},
   "outputs": [],
   "source": []
  }
 ],
 "metadata": {
  "kernelspec": {
   "display_name": "myNLP_venv",
   "language": "python",
   "name": "python3"
  },
  "language_info": {
   "codemirror_mode": {
    "name": "ipython",
    "version": 3
   },
   "file_extension": ".py",
   "mimetype": "text/x-python",
   "name": "python",
   "nbconvert_exporter": "python",
   "pygments_lexer": "ipython3",
   "version": "3.11.0"
  },
  "orig_nbformat": 4
 },
 "nbformat": 4,
 "nbformat_minor": 2
}
