{
 "cells": [
  {
   "cell_type": "code",
   "execution_count": 2,
   "metadata": {},
   "outputs": [],
   "source": [
    "import pandas as pd\n",
    "import numpy as np\n",
    "import textwrap\n",
    "import nltk\n",
    "from nltk.corpus import stopwords\n",
    "from nltk import word_tokenize\n",
    "from nltk.stem import WordNetLemmatizer, PorterStemmer\n",
    "from sklearn.feature_extraction.text import TfidfVectorizer\n"
   ]
  },
  {
   "cell_type": "code",
   "execution_count": 4,
   "metadata": {},
   "outputs": [
    {
     "name": "stderr",
     "output_type": "stream",
     "text": [
      "[nltk_data] Downloading package punkt to\n",
      "[nltk_data]     C:\\Users\\ashut\\AppData\\Roaming\\nltk_data...\n",
      "[nltk_data]   Package punkt is already up-to-date!\n",
      "[nltk_data] Downloading package stopwords to\n",
      "[nltk_data]     C:\\Users\\ashut\\AppData\\Roaming\\nltk_data...\n",
      "[nltk_data]   Package stopwords is already up-to-date!\n"
     ]
    },
    {
     "data": {
      "text/plain": [
       "True"
      ]
     },
     "execution_count": 4,
     "metadata": {},
     "output_type": "execute_result"
    }
   ],
   "source": [
    "nltk.download('punkt')\n",
    "nltk.download('stopwords')"
   ]
  },
  {
   "cell_type": "code",
   "execution_count": 20,
   "metadata": {},
   "outputs": [
    {
     "data": {
      "text/html": [
       "<div>\n",
       "<style scoped>\n",
       "    .dataframe tbody tr th:only-of-type {\n",
       "        vertical-align: middle;\n",
       "    }\n",
       "\n",
       "    .dataframe tbody tr th {\n",
       "        vertical-align: top;\n",
       "    }\n",
       "\n",
       "    .dataframe thead th {\n",
       "        text-align: right;\n",
       "    }\n",
       "</style>\n",
       "<table border=\"1\" class=\"dataframe\">\n",
       "  <thead>\n",
       "    <tr style=\"text-align: right;\">\n",
       "      <th></th>\n",
       "      <th>text</th>\n",
       "      <th>labels</th>\n",
       "    </tr>\n",
       "  </thead>\n",
       "  <tbody>\n",
       "    <tr>\n",
       "      <th>0</th>\n",
       "      <td>Ad sales boost Time Warner profit\\n\\nQuarterly...</td>\n",
       "      <td>business</td>\n",
       "    </tr>\n",
       "    <tr>\n",
       "      <th>1</th>\n",
       "      <td>Dollar gains on Greenspan speech\\n\\nThe dollar...</td>\n",
       "      <td>business</td>\n",
       "    </tr>\n",
       "    <tr>\n",
       "      <th>2</th>\n",
       "      <td>Yukos unit buyer faces loan claim\\n\\nThe owner...</td>\n",
       "      <td>business</td>\n",
       "    </tr>\n",
       "    <tr>\n",
       "      <th>3</th>\n",
       "      <td>High fuel prices hit BA's profits\\n\\nBritish A...</td>\n",
       "      <td>business</td>\n",
       "    </tr>\n",
       "    <tr>\n",
       "      <th>4</th>\n",
       "      <td>Pernod takeover talk lifts Domecq\\n\\nShares in...</td>\n",
       "      <td>business</td>\n",
       "    </tr>\n",
       "  </tbody>\n",
       "</table>\n",
       "</div>"
      ],
      "text/plain": [
       "                                                text    labels\n",
       "0  Ad sales boost Time Warner profit\\n\\nQuarterly...  business\n",
       "1  Dollar gains on Greenspan speech\\n\\nThe dollar...  business\n",
       "2  Yukos unit buyer faces loan claim\\n\\nThe owner...  business\n",
       "3  High fuel prices hit BA's profits\\n\\nBritish A...  business\n",
       "4  Pernod takeover talk lifts Domecq\\n\\nShares in...  business"
      ]
     },
     "execution_count": 20,
     "metadata": {},
     "output_type": "execute_result"
    }
   ],
   "source": [
    "df=pd.read_csv('bbc_text_cls (1).csv')\n",
    "df.head()"
   ]
  },
  {
   "cell_type": "code",
   "execution_count": 7,
   "metadata": {},
   "outputs": [
    {
     "data": {
      "text/plain": [
       "{'business', 'entertainment', 'politics', 'sport', 'tech'}"
      ]
     },
     "execution_count": 7,
     "metadata": {},
     "output_type": "execute_result"
    }
   ],
   "source": [
    "lables=set(df['labels'])\n",
    "lables"
   ]
  },
  {
   "cell_type": "code",
   "execution_count": 12,
   "metadata": {},
   "outputs": [],
   "source": [
    "label='politics'"
   ]
  },
  {
   "cell_type": "code",
   "execution_count": 14,
   "metadata": {},
   "outputs": [
    {
     "data": {
      "text/plain": [
       "896    Labour plans maternity pay rise\\n\\nMaternity p...\n",
       "897    Watchdog probes e-mail deletions\\n\\nThe inform...\n",
       "898    Hewitt decries 'career sexism'\\n\\nPlans to ext...\n",
       "899    Labour chooses Manchester\\n\\nThe Labour Party ...\n",
       "900    Brown ally rejects Budget spree\\n\\nChancellor ...\n",
       "Name: text, dtype: object"
      ]
     },
     "execution_count": 14,
     "metadata": {},
     "output_type": "execute_result"
    }
   ],
   "source": []
  },
  {
   "cell_type": "code",
   "execution_count": 26,
   "metadata": {},
   "outputs": [
    {
     "data": {
      "text/plain": [
       "1124    Iraqis win death test case probe\\n\\nThe family...\n",
       "Name: text, dtype: object"
      ]
     },
     "execution_count": 26,
     "metadata": {},
     "output_type": "execute_result"
    }
   ],
   "source": [
    "doc=df[df.labels=='politics']['text'].sample(random_state=10)\n",
    "doc"
   ]
  },
  {
   "cell_type": "code",
   "execution_count": 27,
   "metadata": {},
   "outputs": [],
   "source": [
    "def wrap(x):\n",
    "    return textwrap.fill(x,replace_whitespace=False,fix_sentence_endings=True)\n",
    "\n"
   ]
  },
  {
   "cell_type": "code",
   "execution_count": 28,
   "metadata": {},
   "outputs": [
    {
     "name": "stdout",
     "output_type": "stream",
     "text": [
      "Iraqis win death test case probe\n",
      "\n",
      "The family of an Iraqi civilian\n",
      "allegedly killed by UK troops have won a challenge against the\n",
      "government's refusal to order a full inquiry.\n",
      "\n",
      "The High Court ruled on\n",
      "Tuesday that Baha Mousa's death in British custody in Iraq fell within\n",
      "the European Convention on Human Rights.  And the judges paved the way\n",
      "for an independent inquiry by saying previous investigations were\n",
      "inadequate.  But judicial reviews into five other deaths in southern\n",
      "Iraq were ruled out.  Their families will be appealing against the\n",
      "judgement.\n",
      "\n",
      "The families' solicitor Phil Shiner described it as \"a\n",
      "historic day for human rights and the rule of law in the UK\". Father-\n",
      "of-two Mr Mousa, 28, a hotel receptionist, was arrested with eight men\n",
      "seized at a hotel in Basra in September 2003. He was allegedly beaten\n",
      "to death while in the custody of the Queen's Lancashire Regiment.  The\n",
      "Iraqi families' lawyer argued that failing to adequately investigate\n",
      "the death breached the European Convention on Human Rights.\n",
      "\n",
      "Ministry\n",
      "of Defence lawyers argued the UK-controlled area of southern Iraq was\n",
      "outside European jurisdiction.  But Lord Justice Rix and Mr Justice\n",
      "Forbes ruled that UK jurisdiction could extend to a UK-run prison, but\n",
      "did not apply \"to the total territory of another state\". They said as\n",
      "Mr Mousa was in custody when he died, his case came within the UK's\n",
      "jurisdiction.  The other five Iraqis did not die in custody, so their\n",
      "cases had to fail, they said.\n",
      "\n",
      "And it was difficult to say that the\n",
      "investigation which had already occurred \"has been timely, open or\n",
      "effective\", the judges said.  After the ruling Carla Ferstman, legal\n",
      "director of the human rights organisation Redress, said: \"It is not\n",
      "enough for the military to investigate behind closed doors.  \"There\n",
      "must be an effective public investigation by an independent official\n",
      "body.  Only such an investigation could reveal what really happened\n",
      "and who might be responsible.\"  Other allegations involving British\n",
      "soldiers included the shooting of an Iraqi police commissioner and the\n",
      "shooting of four Iraqi civilians in May 2003. Both sides were granted\n",
      "permission to appeal.\n",
      "\n",
      "Prime Minister Tony Blair's official spokesman\n",
      "said: \"Obviously we will need to study this detailed judgment.  I\n",
      "would point out, however, that a separate criminal case is currently\n",
      "being considered by the army prosecuting authority.  \"I can't say\n",
      "anything further for obvious reasons.  The MoD are considering whether\n",
      "to appeal.\"  But former British Commander Colonel Bob Stewart said :\n",
      "\"Anyone at the top [of the military] will be saddened by the verdict\n",
      "that has taken place but will say: 'If there's a case to answer, let's\n",
      "have it out.  Because we don't want people thinking that British\n",
      "soldiers beat up civilians and get away with it',\" he said.  \"The\n",
      "Ministry of Defence does everything in its power to try to prove we\n",
      "act ethically and properly under the rules of war.\"\n"
     ]
    }
   ],
   "source": [
    "print(wrap(doc.iloc[0]))"
   ]
  },
  {
   "cell_type": "code",
   "execution_count": 31,
   "metadata": {},
   "outputs": [
    {
     "data": {
      "text/plain": [
       "[\"\\nThe family of an Iraqi civilian allegedly killed by UK troops have won a challenge against the government's refusal to order a full inquiry.\",\n",
       " \"The High Court ruled on Tuesday that Baha Mousa's death in British custody in Iraq fell within the European Convention on Human Rights.\",\n",
       " 'And the judges paved the way for an independent inquiry by saying previous investigations were inadequate.',\n",
       " 'But judicial reviews into five other deaths in southern Iraq were ruled out.',\n",
       " 'Their families will be appealing against the judgement.',\n",
       " 'The families\\' solicitor Phil Shiner described it as \"a historic day for human rights and the rule of law in the UK\".',\n",
       " 'Father-of-two Mr Mousa, 28, a hotel receptionist, was arrested with eight men seized at a hotel in Basra in September 2003.',\n",
       " \"He was allegedly beaten to death while in the custody of the Queen's Lancashire Regiment.\",\n",
       " \"The Iraqi families' lawyer argued that failing to adequately investigate the death breached the European Convention on Human Rights.\",\n",
       " 'Ministry of Defence lawyers argued the UK-controlled area of southern Iraq was outside European jurisdiction.',\n",
       " 'But Lord Justice Rix and Mr Justice Forbes ruled that UK jurisdiction could extend to a UK-run prison, but did not apply \"to the total territory of another state\".',\n",
       " \"They said as Mr Mousa was in custody when he died, his case came within the UK's jurisdiction.\",\n",
       " 'The other five Iraqis did not die in custody, so their cases had to fail, they said.',\n",
       " 'And it was difficult to say that the investigation which had already occurred \"has been timely, open or effective\", the judges said.',\n",
       " 'After the ruling Carla Ferstman, legal director of the human rights organisation Redress, said: \"It is not enough for the military to investigate behind closed doors.',\n",
       " '\"There must be an effective public investigation by an independent official body.',\n",
       " 'Only such an investigation could reveal what really happened and who might be responsible.\"',\n",
       " 'Other allegations involving British soldiers included the shooting of an Iraqi police commissioner and the shooting of four Iraqi civilians in May 2003.',\n",
       " 'Both sides were granted permission to appeal.',\n",
       " 'Prime Minister Tony Blair\\'s official spokesman said: \"Obviously we will need to study this detailed judgment.',\n",
       " 'I would point out, however, that a separate criminal case is currently being considered by the army prosecuting authority.',\n",
       " '\"I can\\'t say anything further for obvious reasons.',\n",
       " 'The MoD are considering whether to appeal.\"',\n",
       " 'But former British Commander Colonel Bob Stewart said : \"Anyone at the top [of the military] will be saddened by the verdict that has taken place but will say: \\'If there\\'s a case to answer, let\\'s have it out.',\n",
       " 'Because we don\\'t want people thinking that British soldiers beat up civilians and get away with it\\',\" he said.',\n",
       " '\"The Ministry of Defence does everything in its power to try to prove we act ethically and properly under the rules of war.\"']"
      ]
     },
     "execution_count": 31,
     "metadata": {},
     "output_type": "execute_result"
    }
   ],
   "source": [
    "sents=nltk.sent_tokenize(doc.iloc[0].split(\"\\n\",1)[1])\n",
    "sents"
   ]
  },
  {
   "cell_type": "code",
   "execution_count": 32,
   "metadata": {},
   "outputs": [],
   "source": [
    "featurizer = TfidfVectorizer(\n",
    "    stop_words=stopwords.words('english'),\n",
    "    norm='l1',\n",
    ")"
   ]
  },
  {
   "cell_type": "code",
   "execution_count": 33,
   "metadata": {},
   "outputs": [],
   "source": [
    "x=featurizer.fit_transform(sents)"
   ]
  },
  {
   "cell_type": "code",
   "execution_count": 34,
   "metadata": {},
   "outputs": [],
   "source": [
    "def getSentScore(tfidf_row):\n",
    "    x=tfidf_row[tfidf_row!=0]\n",
    "    return x.mean()\n",
    "\n"
   ]
  },
  {
   "cell_type": "code",
   "execution_count": 36,
   "metadata": {},
   "outputs": [
    {
     "data": {
      "text/plain": [
       "array([0.07692308, 0.0625    , 0.11111111, 0.14285714, 0.33333333,\n",
       "       0.08333333, 0.07142857, 0.14285714, 0.07692308, 0.08333333,\n",
       "       0.05882353, 0.1       , 0.14285714, 0.1       , 0.0625    ,\n",
       "       0.14285714, 0.14285714, 0.07692308, 0.25      , 0.08333333,\n",
       "       0.09090909, 0.25      , 0.25      , 0.05555556, 0.1       ,\n",
       "       0.09090909])"
      ]
     },
     "execution_count": 36,
     "metadata": {},
     "output_type": "execute_result"
    }
   ],
   "source": [
    "# this score is the sum of all non zero text frequency of the vector of particular sentences\n",
    "# more the score better that occurence of important term as more freq is important\n",
    "scores = np.zeros(len(sents))\n",
    "for i in range(len(sents)):\n",
    "  score = getSentScore(x[i,:])\n",
    "  scores[i] = score\n",
    "scores  "
   ]
  },
  {
   "cell_type": "code",
   "execution_count": 37,
   "metadata": {},
   "outputs": [
    {
     "name": "stdout",
     "output_type": "stream",
     "text": [
      "genetated summary\n"
     ]
    }
   ],
   "source": [
    "indexSort=np.argsort(-scores)\n",
    "print(\"genetated summary\")"
   ]
  },
  {
   "cell_type": "code",
   "execution_count": 39,
   "metadata": {},
   "outputs": [
    {
     "name": "stdout",
     "output_type": "stream",
     "text": [
      "0.33: Their families will be appealing against the judgement.\n",
      "0.25: The MoD are considering whether to appeal.\"\n",
      "0.25: \"I can't say anything further for obvious reasons.\n",
      "0.25: Both sides were granted permission to appeal.\n",
      "0.14: \"There must be an effective public investigation by an\n",
      "independent official body.\n",
      "0.14: But judicial reviews into five other deaths in southern Iraq\n",
      "were ruled out.\n",
      "0.14: He was allegedly beaten to death while in the custody of the\n",
      "Queen's Lancashire Regiment.\n",
      "0.14: Only such an investigation could reveal what really happened and\n",
      "who might be responsible.\"\n",
      "0.14: The other five Iraqis did not die in custody, so their cases had\n",
      "to fail, they said.\n",
      "0.11: And the judges paved the way for an independent inquiry by\n",
      "saying previous investigations were inadequate.\n",
      "0.10: Because we don't want people thinking that British soldiers beat\n",
      "up civilians and get away with it',\" he said.\n",
      "0.10: They said as Mr Mousa was in custody when he died, his case came\n",
      "within the UK's jurisdiction.\n",
      "0.10: And it was difficult to say that the investigation which had\n",
      "already occurred \"has been timely, open or effective\", the judges\n",
      "said.\n",
      "0.09: I would point out, however, that a separate criminal case is\n",
      "currently being considered by the army prosecuting authority.\n",
      "0.09: \"The Ministry of Defence does everything in its power to try to\n",
      "prove we act ethically and properly under the rules of war.\"\n",
      "0.08: Prime Minister Tony Blair's official spokesman said: \"Obviously\n",
      "we will need to study this detailed judgment.\n",
      "0.08: The families' solicitor Phil Shiner described it as \"a historic\n",
      "day for human rights and the rule of law in the UK\".\n",
      "0.08: Ministry of Defence lawyers argued the UK-controlled area of\n",
      "southern Iraq was outside European jurisdiction.\n",
      "0.08: Other allegations involving British soldiers included the\n",
      "shooting of an Iraqi police commissioner and the shooting of four\n",
      "Iraqi civilians in May 2003.\n",
      "0.08: \n",
      "The family of an Iraqi civilian allegedly killed by UK troops\n",
      "have won a challenge against the government's refusal to order a full\n",
      "inquiry.\n"
     ]
    }
   ],
   "source": [
    "for i in indexSort[:20]:\n",
    "    print(wrap(\"%.2f: %s\" % (scores[i], sents[i])))\n",
    "\n"
   ]
  }
 ],
 "metadata": {
  "kernelspec": {
   "display_name": "myNLP_venv",
   "language": "python",
   "name": "python3"
  },
  "language_info": {
   "codemirror_mode": {
    "name": "ipython",
    "version": 3
   },
   "file_extension": ".py",
   "mimetype": "text/x-python",
   "name": "python",
   "nbconvert_exporter": "python",
   "pygments_lexer": "ipython3",
   "version": "3.11.0"
  },
  "orig_nbformat": 4
 },
 "nbformat": 4,
 "nbformat_minor": 2
}
