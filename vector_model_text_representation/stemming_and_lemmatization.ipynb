{
 "cells": [
  {
   "cell_type": "code",
   "execution_count": 1,
   "metadata": {},
   "outputs": [],
   "source": [
    "import nltk"
   ]
  },
  {
   "cell_type": "code",
   "execution_count": 2,
   "metadata": {},
   "outputs": [],
   "source": [
    "from nltk.stem.porter import*"
   ]
  },
  {
   "cell_type": "code",
   "execution_count": 3,
   "metadata": {},
   "outputs": [],
   "source": [
    "porter=PorterStemmer()"
   ]
  },
  {
   "cell_type": "code",
   "execution_count": 16,
   "metadata": {},
   "outputs": [],
   "source": [
    "string1=\"where are the good peoples belongs to these cities whome i have been searching for a while\"\n"
   ]
  },
  {
   "cell_type": "code",
   "execution_count": 17,
   "metadata": {},
   "outputs": [
    {
     "name": "stdout",
     "output_type": "stream",
     "text": [
      "where  -> where\n",
      "are  -> are\n",
      "the  -> the\n",
      "good  -> good\n",
      "peoples  -> peopl\n",
      "belongs  -> belong\n",
      "to  -> to\n",
      "these  -> these\n",
      "cities  -> citi\n",
      "whome  -> whome\n",
      "i  -> i\n",
      "have  -> have\n",
      "been  -> been\n",
      "searching  -> search\n",
      "for  -> for\n",
      "a  -> a\n",
      "while  -> while\n"
     ]
    }
   ],
   "source": [
    "for i in string1.split():\n",
    "    print(i,\" ->\",porter.stem(i))"
   ]
  },
  {
   "cell_type": "code",
   "execution_count": 18,
   "metadata": {},
   "outputs": [],
   "source": [
    "# now we are using more accurate stemming alogo\n",
    "from nltk.stem.snowball import SnowballStemmer"
   ]
  },
  {
   "cell_type": "code",
   "execution_count": 19,
   "metadata": {},
   "outputs": [],
   "source": [
    "snowball=SnowballStemmer(language='english')"
   ]
  },
  {
   "cell_type": "code",
   "execution_count": 20,
   "metadata": {},
   "outputs": [
    {
     "name": "stdout",
     "output_type": "stream",
     "text": [
      "tokens || snowball || porter\n",
      "where -> where -> where\n",
      "are -> are -> are\n",
      "the -> the -> the\n",
      "good -> good -> good\n",
      "peoples -> peopl -> peopl\n",
      "belongs -> belong -> belong\n",
      "to -> to -> to\n",
      "these -> these -> these\n",
      "cities -> citi -> citi\n",
      "whome -> whome -> whome\n",
      "i -> i -> i\n",
      "have -> have -> have\n",
      "been -> been -> been\n",
      "searching -> search -> search\n",
      "for -> for -> for\n",
      "a -> a -> a\n",
      "while -> while -> while\n"
     ]
    }
   ],
   "source": [
    "print(\"tokens\",\"|| snowball\",\"|| porter\")\n",
    "for i in string1.split():\n",
    "    print(i,\"->\",snowball.stem(i),\"->\",porter.stem(i))"
   ]
  },
  {
   "cell_type": "code",
   "execution_count": 23,
   "metadata": {},
   "outputs": [],
   "source": [
    "# now lemmatization it gives us the root word used in sentence\n",
    "# using Spacy "
   ]
  },
  {
   "cell_type": "code",
   "execution_count": 24,
   "metadata": {},
   "outputs": [],
   "source": [
    "import spacy"
   ]
  },
  {
   "cell_type": "code",
   "execution_count": 26,
   "metadata": {},
   "outputs": [],
   "source": [
    "spacy=spacy.load('en_core_web_sm')"
   ]
  },
  {
   "cell_type": "code",
   "execution_count": 30,
   "metadata": {},
   "outputs": [],
   "source": [
    "#doc1 = spacy(u\"I am a runner running in a race because I love to run since I ran today\")\n",
    "doc1=spacy(string1)"
   ]
  },
  {
   "cell_type": "code",
   "execution_count": 31,
   "metadata": {},
   "outputs": [
    {
     "name": "stdout",
     "output_type": "stream",
     "text": [
      "where -> where -> SCONJ\n",
      "are -> be -> AUX\n",
      "the -> the -> DET\n",
      "good -> good -> ADJ\n",
      "peoples -> people -> NOUN\n",
      "belongs -> belong -> VERB\n",
      "to -> to -> ADP\n",
      "these -> these -> DET\n",
      "cities -> city -> NOUN\n",
      "whome -> whome -> ADJ\n",
      "i -> I -> PRON\n",
      "have -> have -> AUX\n",
      "been -> be -> AUX\n",
      "searching -> search -> VERB\n",
      "for -> for -> ADP\n",
      "a -> a -> DET\n",
      "while -> while -> NOUN\n"
     ]
    }
   ],
   "source": [
    "for i in doc1:\n",
    "    print(i.text,\"->\",i.lemma_,\"->\",i.pos_)"
   ]
  }
 ],
 "metadata": {
  "kernelspec": {
   "display_name": "myNLP_venv",
   "language": "python",
   "name": "python3"
  },
  "language_info": {
   "codemirror_mode": {
    "name": "ipython",
    "version": 3
   },
   "file_extension": ".py",
   "mimetype": "text/x-python",
   "name": "python",
   "nbconvert_exporter": "python",
   "pygments_lexer": "ipython3",
   "version": "3.11.0"
  },
  "orig_nbformat": 4
 },
 "nbformat": 4,
 "nbformat_minor": 2
}
